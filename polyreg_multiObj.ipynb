{
 "cells": [
  {
   "cell_type": "code",
   "execution_count": 147,
   "id": "05836009",
   "metadata": {},
   "outputs": [],
   "source": [
    "import pandas as pd\n",
    "import matplotlib.pyplot as plt\n",
    "import numpy as np"
   ]
  },
  {
   "cell_type": "code",
   "execution_count": 156,
   "id": "070c24ae",
   "metadata": {},
   "outputs": [],
   "source": [
    "from sklearn.preprocessing import PolynomialFeatures\n",
    "from sklearn.linear_model import LinearRegression\n",
    "pre_process = PolynomialFeatures(degree=3)\n",
    "pr_model = LinearRegression()\n",
    "#X_poly"
   ]
  },
  {
   "cell_type": "code",
   "execution_count": 148,
   "id": "94111007",
   "metadata": {},
   "outputs": [],
   "source": [
    "data = pd.read_csv(\"C:/Users/musto/RepoVC/test/scenario1.csv\")\n",
    "#data"
   ]
  },
  {
   "cell_type": "code",
   "execution_count": 149,
   "id": "94c39dae",
   "metadata": {},
   "outputs": [],
   "source": [
    "#taking max value of the ID data to know max object detected"
   ]
  },
  {
   "cell_type": "code",
   "execution_count": 150,
   "id": "4c840a59",
   "metadata": {},
   "outputs": [],
   "source": [
    "column_values = data[[\"id\"]].values\n",
    "unique_values =  np.unique(column_values)\n",
    "max_value = data.id.max()"
   ]
  },
  {
   "cell_type": "code",
   "execution_count": 151,
   "id": "07ef5e0b",
   "metadata": {},
   "outputs": [],
   "source": [
    "#cyclist_data[n-1] is the cyclist data with id = n; vice versa pedestrian_data"
   ]
  },
  {
   "cell_type": "code",
   "execution_count": 152,
   "id": "ae20ff88",
   "metadata": {},
   "outputs": [],
   "source": [
    "cyclist_data=[]\n",
    "pedestrian_data=[]"
   ]
  },
  {
   "cell_type": "code",
   "execution_count": 153,
   "id": "c67bfa9f",
   "metadata": {},
   "outputs": [],
   "source": [
    "for i in range(1, max_value+1):\n",
    "    cyclist_data.append(data.groupby([\"type\", \"id\"]).get_group((\"c\", i)))\n",
    "    pedestrian_data.append(data.groupby([\"type\", \"id\"]).get_group((\"p\", i)))"
   ]
  },
  {
   "cell_type": "code",
   "execution_count": 154,
   "id": "bd462ee0",
   "metadata": {},
   "outputs": [],
   "source": [
    "#Splitting and creating Cyclist and Pedestrian X,Y dataset"
   ]
  },
  {
   "cell_type": "code",
   "execution_count": 157,
   "id": "7e66081f",
   "metadata": {},
   "outputs": [],
   "source": [
    "X_cyclist=[]\n",
    "Y_cyclist=[]\n",
    "X_pedestrian=[]\n",
    "Y_pedestrian=[]\n",
    "X_poly_c=[]\n",
    "Y_pred_c=[]"
   ]
  },
  {
   "cell_type": "code",
   "execution_count": 163,
   "id": "09b01fa7",
   "metadata": {},
   "outputs": [],
   "source": [
    "for j in range(0, max_value):\n",
    "    X_cyclist.append(cyclist_data[j][[\"x\"]])\n",
    "    Y_cyclist.append(cyclist_data[j][[\"y\"]])\n",
    "    X_pedestrian.append(pedestrian_data[j][[\"x\"]])\n",
    "    Y_pedestrian.append(pedestrian_data[j][[\"y\"]])"
   ]
  },
  {
   "cell_type": "code",
   "execution_count": 166,
   "id": "c14d631a",
   "metadata": {},
   "outputs": [],
   "source": [
    "for k in range(0, max_value):\n",
    "    X_poly_c.append(pre_process.fit_transform(X_cyclist[k]))"
   ]
  },
  {
   "cell_type": "code",
   "execution_count": null,
   "id": "a52963e7",
   "metadata": {},
   "outputs": [],
   "source": [
    "#X_poly_c[0], #X_poly_c[1], [0] is for ID 1 and [1] is for ID 2 "
   ]
  },
  {
   "cell_type": "code",
   "execution_count": 167,
   "id": "d212ee20",
   "metadata": {},
   "outputs": [],
   "source": [
    "for l in range(0, max_value):\n",
    "    pr_model.fit(X_poly_c[l], Y_cyclist[l])\n",
    "    Y_pred_c.append(pr_model.predict(X_poly_c[l]))"
   ]
  },
  {
   "cell_type": "code",
   "execution_count": 173,
   "id": "51e14982",
   "metadata": {},
   "outputs": [],
   "source": [
    "next_y= pr_model.predict(pre_process.fit_transform([[4]]))"
   ]
  },
  {
   "cell_type": "code",
   "execution_count": null,
   "id": "7f7591b9",
   "metadata": {},
   "outputs": [],
   "source": [
    "#STILL UNDERCONSTRUCT, ONLY TAKING "
   ]
  },
  {
   "cell_type": "code",
   "execution_count": 186,
   "id": "90f7dfa4",
   "metadata": {},
   "outputs": [
    {
     "name": "stdout",
     "output_type": "stream",
     "text": [
      "14.621153846153845 12.83\n"
     ]
    }
   ],
   "source": [
    "#last x position \n",
    "last_x= abs(cyclist_data[0]['x'].iloc[-1])\n",
    "mean=abs((cyclist_data[0]['x'].mean(axis=0)))\n",
    "print(mean, last_x)"
   ]
  },
  {
   "cell_type": "code",
   "execution_count": 187,
   "id": "d804f4a1",
   "metadata": {},
   "outputs": [],
   "source": [
    "post_predicted_list=[]"
   ]
  },
  {
   "cell_type": "code",
   "execution_count": null,
   "id": "95b48fa9",
   "metadata": {},
   "outputs": [],
   "source": [
    "for i in np.arange (last_x, last_x+8, mean[0]/5):\n",
    "    next_y= pr_model.predict(pre_process.fit_transform([[i]]))\n",
    "    post_predicted_list.append([i, next_y[0][0]])"
   ]
  }
 ],
 "metadata": {
  "kernelspec": {
   "display_name": "Python 3",
   "language": "python",
   "name": "python3"
  },
  "language_info": {
   "codemirror_mode": {
    "name": "ipython",
    "version": 3
   },
   "file_extension": ".py",
   "mimetype": "text/x-python",
   "name": "python",
   "nbconvert_exporter": "python",
   "pygments_lexer": "ipython3",
   "version": "3.8.10"
  }
 },
 "nbformat": 4,
 "nbformat_minor": 5
}
